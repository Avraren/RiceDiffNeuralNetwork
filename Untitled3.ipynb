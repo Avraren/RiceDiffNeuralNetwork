{
 "cells": [
  {
   "cell_type": "code",
   "execution_count": 168,
   "id": "1c671357",
   "metadata": {},
   "outputs": [],
   "source": [
    "import tensorflow as tf\n",
    "from tensorflow.keras.preprocessing import image\n",
    "import numpy as np\n",
    "from PIL import Image"
   ]
  },
  {
   "cell_type": "markdown",
   "id": "cdd4dae8",
   "metadata": {},
   "source": [
    "Załadowanie modelu"
   ]
  },
  {
   "cell_type": "code",
   "execution_count": 169,
   "id": "ec9e3511",
   "metadata": {},
   "outputs": [
    {
     "name": "stderr",
     "output_type": "stream",
     "text": [
      "WARNING:absl:Compiled the loaded model, but the compiled metrics have yet to be built. `model.compile_metrics` will be empty until you train or evaluate the model.\n"
     ]
    }
   ],
   "source": [
    "model = tf.keras.models.load_model('rice_model.h5')"
   ]
  },
  {
   "cell_type": "markdown",
   "id": "50d92a07",
   "metadata": {},
   "source": [
    "Funkcja przypisywania i wczytywania obrazu"
   ]
  },
  {
   "cell_type": "code",
   "execution_count": 170,
   "id": "e41f6a99",
   "metadata": {},
   "outputs": [],
   "source": [
    "def preprocess_image(img_path):\n",
    "    img = Image.open(img_path)\n",
    "    img_height, img_width = img.size\n",
    "    img = img.convert(\"RGB\")\n",
    "    img = img.resize((250, 250))\n",
    "    img_array = image.img_to_array(img)\n",
    "    img_array = np.expand_dims(img_array, axis=0)\n",
    "    img_array /= 255.0\n",
    "    return img_array, img_height, img_width\n"
   ]
  },
  {
   "cell_type": "markdown",
   "id": "aebe1544",
   "metadata": {},
   "source": [
    "Funkcja klasyfikujaca "
   ]
  },
  {
   "cell_type": "code",
   "execution_count": 171,
   "id": "16290cff",
   "metadata": {},
   "outputs": [],
   "source": [
    "def classify_image(img_array, model):\n",
    "    predictions = model.predict(img_array)\n",
    "    predicted_class = np.argmax(predictions[0])\n",
    "    return predicted_class, predictions[0]"
   ]
  },
  {
   "cell_type": "markdown",
   "id": "8ae1190e",
   "metadata": {},
   "source": [
    "Scieżka do zdjęcia"
   ]
  },
  {
   "cell_type": "code",
   "execution_count": 211,
   "id": "ef0e643f",
   "metadata": {},
   "outputs": [],
   "source": [
    "image_path = 'rice.jpg'"
   ]
  },
  {
   "cell_type": "markdown",
   "id": "5d1878b0",
   "metadata": {},
   "source": [
    "Przetwarzanie obrazu i klasyfikacja"
   ]
  },
  {
   "cell_type": "code",
   "execution_count": 212,
   "id": "9e33b5fc",
   "metadata": {
    "scrolled": true
   },
   "outputs": [
    {
     "name": "stdout",
     "output_type": "stream",
     "text": [
      "\u001b[1m1/1\u001b[0m \u001b[32m━━━━━━━━━━━━━━━━━━━━\u001b[0m\u001b[37m\u001b[0m \u001b[1m0s\u001b[0m 33ms/step\n"
     ]
    }
   ],
   "source": [
    "img_array, img_height, img_width = preprocess_image(image_path)\n",
    "predicted_class, predictions = classify_image(img_array, model)"
   ]
  },
  {
   "cell_type": "markdown",
   "id": "afeffa28",
   "metadata": {},
   "source": [
    "Mapowanie klas na nazwy ryżu"
   ]
  },
  {
   "cell_type": "code",
   "execution_count": 213,
   "id": "9ed15f39",
   "metadata": {},
   "outputs": [],
   "source": [
    "class_names = ['arborio', 'basmati', 'Ipsala', 'Jasmine', 'Karacadag']\n",
    "predicted_class_name = class_names[predicted_class]"
   ]
  },
  {
   "cell_type": "markdown",
   "id": "5afd4f50",
   "metadata": {},
   "source": [
    "Wyświetlenie wyników w konsoli"
   ]
  },
  {
   "cell_type": "code",
   "execution_count": 214,
   "id": "81dc7f9c",
   "metadata": {},
   "outputs": [
    {
     "name": "stdout",
     "output_type": "stream",
     "text": [
      "Przewidziana klasa: basmati, Prawdopodobieństwa: [3.8937450e-33 9.9296159e-01 7.0384587e-03 6.4036232e-20 2.3512504e-31]\n"
     ]
    }
   ],
   "source": [
    "print(f\"Przewidziana klasa: {predicted_class_name}, Prawdopodobieństwa: {predictions}\")"
   ]
  },
  {
   "cell_type": "code",
   "execution_count": null,
   "id": "b952e9b8",
   "metadata": {},
   "outputs": [],
   "source": []
  }
 ],
 "metadata": {
  "kernelspec": {
   "display_name": "Python 3 (ipykernel)",
   "language": "python",
   "name": "python3"
  },
  "language_info": {
   "codemirror_mode": {
    "name": "ipython",
    "version": 3
   },
   "file_extension": ".py",
   "mimetype": "text/x-python",
   "name": "python",
   "nbconvert_exporter": "python",
   "pygments_lexer": "ipython3",
   "version": "3.9.13"
  }
 },
 "nbformat": 4,
 "nbformat_minor": 5
}
